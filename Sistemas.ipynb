{
 "cells": [
  {
   "cell_type": "code",
   "execution_count": 217,
   "metadata": {},
   "outputs": [],
   "source": [
    "#Imports necessários para o programa que a gente precisa\n",
    "import os\n",
    "import numpy as np\n",
    "import matplotlib.pyplot as plt\n",
    "import subprocess\n",
    "import re as re\n",
    "from math import fabs"
   ]
  },
  {
   "cell_type": "code",
   "execution_count": 218,
   "metadata": {},
   "outputs": [],
   "source": [
    "#Uma função para auxliar a gente a coletar todos os pings de uma chamada\n",
    "def tempos(tempo):\n",
    "    matcher = re.compile(r\"tempo=..\")#achar as ocorrências de tempo\n",
    "    t=str(tempo)\n",
    "    time=[]\n",
    "    a=0\n",
    "    while matcher.search(t) != None:\n",
    "        x = re.sub(r\"tempo=\", \"\",matcher.search(t).group() )\n",
    "        time.append(x)\n",
    "        t = t.replace (matcher.search(t).group(), \"\",1)\n",
    "    for a in range (len(time)):\n",
    "        time[a]=int(time[a])\n",
    "    return time"
   ]
  },
  {
   "cell_type": "code",
   "execution_count": 219,
   "metadata": {},
   "outputs": [],
   "source": [
    "#Essa função determina se o pacote em questão é IPv4 ou não\n",
    "def IPv4 (pacote):\n",
    "    matcher = re.compile(r\"Resposta de ([0-9]+)\\.\")\n",
    "    p= str(pacote)\n",
    "    if matcher.search(p) != None:\n",
    "        return True\n",
    "    else:\n",
    "        return False"
   ]
  },
  {
   "cell_type": "code",
   "execution_count": 220,
   "metadata": {},
   "outputs": [],
   "source": [
    "#Uma função para deixar os arrays do mesmo tamanho para plotar\n",
    "def tamanho(list1, list2):\n",
    "    while len(list1)!=len(list2):\n",
    "        if len(list1)> len(list2):\n",
    "            list1.pop(0)\n",
    "        else:\n",
    "            list2.pop(0)\n",
    "    return 0"
   ]
  },
  {
   "cell_type": "code",
   "execution_count": 221,
   "metadata": {},
   "outputs": [],
   "source": [
    "#Valores de interesse\n",
    "alpha=1/8\n",
    "beta=1/4\n",
    "SampleRTT=[0]\n",
    "EstimatedRTT=[0]\n",
    "DevRTT=[0]\n",
    "TimeoutInterval=[0]\n",
    "i=0"
   ]
  },
  {
   "cell_type": "code",
   "execution_count": 265,
   "metadata": {},
   "outputs": [],
   "source": [
    "#Essa função é responsável por pingar com o ping padrão\n",
    "def pingar (host, n):\n",
    "    i=0\n",
    "    comunica=[]\n",
    "    while i<=n:\n",
    "        ping = subprocess.Popen(\n",
    "            [\"ping\", host],\n",
    "            stdout = subprocess.PIPE,\n",
    "            stderr = subprocess.PIPE\n",
    "        )\n",
    "        print(i,\"/\",n, \"completed\", end='\\r')\n",
    "        comunica.append(ping.communicate())\n",
    "        i+=1\n",
    "\n",
    "    return comunica"
   ]
  },
  {
   "cell_type": "code",
   "execution_count": 264,
   "metadata": {},
   "outputs": [],
   "source": [
    "#Essa função é responsável por pingar com IPv4\n",
    "def pingar4 (host, n):\n",
    "    i=0\n",
    "    comunica=[]\n",
    "    while i<=n:\n",
    "        ping = subprocess.Popen(\n",
    "            [\"ping \", \"-4\", host],\n",
    "            stdout = subprocess.PIPE,\n",
    "            stderr = subprocess.PIPE\n",
    "        )\n",
    "        print(i,\"/\",n, \"completed\", end='\\r')\n",
    "        comunica.append(ping.communicate())\n",
    "        i+=1\n",
    "\n",
    "    return comunica"
   ]
  },
  {
   "cell_type": "code",
   "execution_count": 263,
   "metadata": {},
   "outputs": [],
   "source": [
    "#Essa função é responsável por pingar com IPv6\n",
    "def pingar6 (host, n):\n",
    "    i=0\n",
    "    comunica=[]\n",
    "    while i<=n:\n",
    "        ping = subprocess.Popen(\n",
    "            [\"ping\", \"-6\", host],\n",
    "            stdout = subprocess.PIPE,\n",
    "            stderr = subprocess.PIPE\n",
    "        )\n",
    "        comunica.append(ping.communicate())\n",
    "        i+=1\n",
    "        print(i,\"/\",n, \"completed\", end='\\r')\n",
    "    return comunica"
   ]
  },
  {
   "cell_type": "code",
   "execution_count": 225,
   "metadata": {
    "scrolled": true
   },
   "outputs": [],
   "source": [
    "pings= pingar (\"www.harvard.edu\",500)"
   ]
  },
  {
   "cell_type": "code",
   "execution_count": 251,
   "metadata": {},
   "outputs": [],
   "source": [
    "SampleRTT=tempos(pings)\n",
    "EstimatedRTT[0]=SampleRTT[0]"
   ]
  },
  {
   "cell_type": "code",
   "execution_count": 252,
   "metadata": {},
   "outputs": [
    {
     "data": {
      "text/plain": [
       "0"
      ]
     },
     "execution_count": 252,
     "metadata": {},
     "output_type": "execute_result"
    }
   ],
   "source": [
    "while i < len(SampleRTT):\n",
    "    EstimatedRTT.append((1-alpha)*EstimatedRTT[i-1]+alpha*SampleRTT[i]) \n",
    "    DevRTT.append((1-beta)*DevRTT[i-1]+beta*fabs(SampleRTT[i]-EstimatedRTT[i]))\n",
    "    TimeoutInterval.append(EstimatedRTT[i]+4*DevRTT[i])\n",
    "    i+=1\n",
    "tamanho(SampleRTT, EstimatedRTT)\n",
    "tamanho(SampleRTT, DevRTT)\n",
    "tamanho(SampleRTT, TimeoutInterval)"
   ]
  },
  {
   "cell_type": "code",
   "execution_count": 253,
   "metadata": {},
   "outputs": [],
   "source": [
    "x1=np.array(SampleRTT)\n",
    "x2=np.array(DevRTT)\n",
    "x3=np.array(EstimatedRTT)\n",
    "x4=np.array(TimeoutInterval)\n",
    "y=np.linspace(0, sum (SampleRTT)/100, len(SampleRTT))"
   ]
  },
  {
   "cell_type": "code",
   "execution_count": 254,
   "metadata": {},
   "outputs": [
    {
     "data": {
      "image/png": "[encoded data removed]",
      "text/plain": [
       "<Figure size 432x288 with 1 Axes>"
      ]
     },
     "metadata": {
      "needs_background": "light"
     },
     "output_type": "display_data"
    }
   ],
   "source": [
    "plt.plot(y, x1, 'r', label='SampleRTT')\n",
    "plt.plot(y, x2, 'g', label='DevRTT')\n",
    "plt.plot(y, x3, 'b', label='EstimatedRTT')\n",
    "plt.plot(y, x4, 'y', label='TimeoutInterval')\n",
    "plt.xlabel('Tempo(s)')\n",
    "plt.ylabel('aa')\n",
    "plt.legend()\n",
    "\n",
    "plt.show()"
   ]
  },
  {
   "cell_type": "code",
   "execution_count": 230,
   "metadata": {},
   "outputs": [
    {
     "name": "stdout",
     "output_type": "stream",
     "text": [
      "SampleRTT:\n",
      "Média= 23.307039440838743 \n",
      "Desvio Padrão= 2.7554847717690096 \n",
      "\n",
      "\n",
      "EstimatedRTT:\n",
      "Média= 23.299419260612417 \n",
      "Desvio Padrão= 0.9288454751963272 \n",
      "\n",
      "\n",
      "DevRTT:\n",
      "Média= 0.9523517649408918 \n",
      "Desvio Padrão= 1.1438062244584706 \n",
      "\n",
      "\n",
      "TimeoutInterval:\n",
      "Média= 27.108021083757432 \n",
      "Desvio Padrão= 5.174654809870624 \n",
      "\n",
      "\n"
     ]
    }
   ],
   "source": [
    "SampleRTT_mean= np.mean(SampleRTT)\n",
    "SampleRTT_std= np.std(SampleRTT)\n",
    "print(\"SampleRTT:\\nMédia=\", SampleRTT_mean, \"\\nDesvio Padrão=\", SampleRTT_std, \"\\n\\n\")\n",
    "EstimatedRTT_mean= np.mean(EstimatedRTT)\n",
    "EstimatedRTT_std= np.std(EstimatedRTT)\n",
    "print(\"EstimatedRTT:\\nMédia=\", EstimatedRTT_mean, \"\\nDesvio Padrão=\", EstimatedRTT_std, \"\\n\\n\")\n",
    "DevRTT_mean= np.mean(DevRTT)\n",
    "DevRTT_std= np.std(DevRTT)\n",
    "print(\"DevRTT:\\nMédia=\", DevRTT_mean, \"\\nDesvio Padrão=\", DevRTT_std, \"\\n\\n\")\n",
    "TimeoutInterval_mean= np.mean(TimeoutInterval)\n",
    "TimeoutInterval_std= np.std(TimeoutInterval)\n",
    "print(\"TimeoutInterval:\\nMédia=\", TimeoutInterval_mean, \"\\nDesvio Padrão=\", TimeoutInterval_std, \"\\n\\n\")"
   ]
  },
  {
   "cell_type": "code",
   "execution_count": 231,
   "metadata": {},
   "outputs": [
    {
     "name": "stdout",
     "output_type": "stream",
     "text": [
      "Foi utilizado IPv6 nesses pacotes\n"
     ]
    }
   ],
   "source": [
    "if (IPv4(pings)):\n",
    "    print(\"Foi utilizado IPv4 nesses pacotes\")\n",
    "else:\n",
    "    print(\"Foi utilizado IPv6 nesses pacotes\")\n",
    "    "
   ]
  },
  {
   "cell_type": "code",
   "execution_count": 266,
   "metadata": {},
   "outputs": [
    {
     "name": "stdout",
     "output_type": "stream",
     "text": [
      "500 / 500 completed\r"
     ]
    }
   ],
   "source": [
    "pings_new= pingar4 (\"www.harvard.edu\",500)"
   ]
  },
  {
   "cell_type": "code",
   "execution_count": 267,
   "metadata": {},
   "outputs": [
    {
     "name": "stdout",
     "output_type": "stream",
     "text": [
      "Foi utilizado IPv4 nesses pacotes\n"
     ]
    }
   ],
   "source": [
    "if (IPv4(pings_new)):\n",
    "    print(\"Foi utilizado IPv4 nesses pacotes\")\n",
    "else:\n",
    "    print(\"Foi utilizado IPv6 nesses pacotes\")"
   ]
  },
  {
   "cell_type": "code",
   "execution_count": 268,
   "metadata": {},
   "outputs": [],
   "source": [
    "SampleRTT4=[0]\n",
    "EstimatedRTT4=[0]\n",
    "DevRTT4=[0]\n",
    "TimeoutInterval4=[0]"
   ]
  },
  {
   "cell_type": "code",
   "execution_count": 269,
   "metadata": {},
   "outputs": [],
   "source": [
    "SampleRTT4=tempos(pings_new)\n",
    "EstimatedRTT4[0]=SampleRTT4[0]"
   ]
  },
  {
   "cell_type": "code",
   "execution_count": 270,
   "metadata": {},
   "outputs": [
    {
     "data": {
      "text/plain": [
       "0"
      ]
     },
     "execution_count": 270,
     "metadata": {},
     "output_type": "execute_result"
    }
   ],
   "source": [
    "j=0\n",
    "while j < len(SampleRTT4):\n",
    "    EstimatedRTT4.append((1-alpha)*EstimatedRTT4[j-1]+alpha*SampleRTT4[j]) \n",
    "    DevRTT4.append((1-beta)*DevRTT4[j-1]+beta*fabs(SampleRTT4[j]-EstimatedRTT4[j]))\n",
    "    TimeoutInterval4.append(EstimatedRTT4[j]+4*DevRTT4[j])\n",
    "    j+=1\n",
    "tamanho(SampleRTT4, EstimatedRTT4)\n",
    "tamanho(SampleRTT4, DevRTT4)\n",
    "tamanho(SampleRTT4, TimeoutInterval4)"
   ]
  },
  {
   "cell_type": "code",
   "execution_count": 271,
   "metadata": {},
   "outputs": [],
   "source": [
    "x41=np.array(SampleRTT4)\n",
    "x42=np.array(DevRTT4)\n",
    "x43=np.array(EstimatedRTT4)\n",
    "x44=np.array(TimeoutInterval4)\n",
    "y4=np.linspace(0, sum (SampleRTT4)/100, len(SampleRTT4))"
   ]
  },
  {
   "cell_type": "code",
   "execution_count": 272,
   "metadata": {},
   "outputs": [
    {
     "data": {
      "image/png": "[encoded data removed]",
      "text/plain": [
       "<Figure size 432x288 with 1 Axes>"
      ]
     },
     "metadata": {
      "needs_background": "light"
     },
     "output_type": "display_data"
    }
   ],
   "source": [
    "plt.plot(y4, x41, 'r', label='SampleRTT4')\n",
    "plt.plot(y4, x42, 'g', label='DevRTT4')\n",
    "plt.plot(y4, x43, 'b', label='EstimatedRTT4')\n",
    "plt.plot(y4, x44, 'y', label='TimeoutInterval4')\n",
    "plt.xlabel('Tempo(s)')\n",
    "plt.ylabel('aa')\n",
    "plt.legend()\n",
    "\n",
    "plt.show()"
   ]
  },
  {
   "cell_type": "code",
   "execution_count": 273,
   "metadata": {},
   "outputs": [
    {
     "name": "stdout",
     "output_type": "stream",
     "text": [
      "SampleRTT4:\n",
      "Média= 23.711144427786106 \n",
      "Desvio Padrão= 5.034366724372833 \n",
      "\n",
      "\n",
      "EstimatedRTT4:\n",
      "Média= 23.666393685298683 \n",
      "Desvio Padrão= 1.3738279509965057 \n",
      "\n",
      "\n",
      "DevRTT:\n",
      "Média= 1.9594617482934829 \n",
      "Desvio Padrão= 2.1338616272334705 \n",
      "\n",
      "\n",
      "TimeoutInterval4:\n",
      "Média= 31.4781220950187 \n",
      "Desvio Padrão4= 9.670559052140144 \n",
      "\n",
      "\n"
     ]
    }
   ],
   "source": [
    "SampleRTT4_mean= np.mean(SampleRTT4)\n",
    "SampleRTT4_std= np.std(SampleRTT4)\n",
    "print(\"SampleRTT4:\\nMédia=\", SampleRTT4_mean, \"\\nDesvio Padrão=\", SampleRTT4_std, \"\\n\\n\")\n",
    "EstimatedRTT4_mean= np.mean(EstimatedRTT4)\n",
    "EstimatedRTT4_std= np.std(EstimatedRTT4)\n",
    "print(\"EstimatedRTT4:\\nMédia=\", EstimatedRTT4_mean, \"\\nDesvio Padrão=\", EstimatedRTT4_std, \"\\n\\n\")\n",
    "DevRTT4_mean= np.mean(DevRTT4)\n",
    "DevRTT4_std= np.std(DevRTT4)\n",
    "print(\"DevRTT:\\nMédia=\", DevRTT4_mean, \"\\nDesvio Padrão=\", DevRTT4_std, \"\\n\\n\")\n",
    "TimeoutInterval4_mean= np.mean(TimeoutInterval4)\n",
    "TimeoutInterval4_std= np.std(TimeoutInterval4)\n",
    "print(\"TimeoutInterval4:\\nMédia=\", TimeoutInterval4_mean, \"\\nDesvio Padrão4=\", TimeoutInterval4_std, \"\\n\\n\")"
   ]
  }
 ],
 "metadata": {
  "kernelspec": {
   "display_name": "Python 3",
   "language": "python",
   "name": "python3"
  },
  "language_info": {
   "codemirror_mode": {
    "name": "ipython",
    "version": 3
   },
   "file_extension": ".py",
   "mimetype": "text/x-python",
   "name": "python",
   "nbconvert_exporter": "python",
   "pygments_lexer": "ipython3",
   "version": "3.7.6"
  }
 },
 "nbformat": 4,
 "nbformat_minor": 4
}
